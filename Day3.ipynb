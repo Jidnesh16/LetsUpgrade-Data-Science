{
 "cells": [
  {
   "cell_type": "markdown",
   "metadata": {},
   "source": [
    "# Question:- 01"
   ]
  },
  {
   "cell_type": "code",
   "execution_count": 1,
   "metadata": {},
   "outputs": [
    {
     "name": "stdout",
     "output_type": "stream",
     "text": [
      "[ 2  5  8 11 14 17 20 23 26 29 32 35 38 41 44 47]\n"
     ]
    }
   ],
   "source": [
    "import numpy as np\n",
    "A = np.arange(2,50,3)\n",
    "print(A)"
   ]
  },
  {
   "cell_type": "markdown",
   "metadata": {},
   "source": [
    "# Question:- 02"
   ]
  },
  {
   "cell_type": "code",
   "execution_count": 2,
   "metadata": {},
   "outputs": [
    {
     "name": "stdout",
     "output_type": "stream",
     "text": [
      "1\n",
      "2\n",
      "4\n",
      "5\n",
      "6\n",
      "9\n",
      "8\n",
      "10\n",
      "14\n",
      "26\n",
      "List1: [1 2 4 5 6]\n",
      "List2: [ 9  8 10 14 26]\n",
      "concatenated: [ 1  2  4  5  6  9  8 10 14 26]\n",
      "sorted: [ 1  2  4  5  6  8  9 10 14 26]\n"
     ]
    }
   ],
   "source": [
    "import numpy as np\n",
    "A = []\n",
    "B = []\n",
    "for i in range(5):\n",
    "    x = int(input())\n",
    "    A.append(x)\n",
    "for q in range(5):\n",
    "    y = int(input())\n",
    "    B.append(y)\n",
    "a = np.array(A)\n",
    "b = np.array(B)\n",
    "c = np.concatenate((a,b))\n",
    "print('List1:',a)\n",
    "print('List2:',b)\n",
    "print('concatenated:',c)\n",
    "print('sorted:',np.sort(c))"
   ]
  },
  {
   "cell_type": "markdown",
   "metadata": {},
   "source": [
    "# Question:- 03"
   ]
  },
  {
   "cell_type": "code",
   "execution_count": 3,
   "metadata": {},
   "outputs": [
    {
     "name": "stdout",
     "output_type": "stream",
     "text": [
      "[[1 2 3]\n",
      " [4 5 6]\n",
      " [7 8 9]]\n",
      "Dimension: 2\n",
      "Size: 9\n"
     ]
    }
   ],
   "source": [
    "import numpy as np\n",
    "arr = np.array([ [1,2,3], [4,5,6], [7,8,9] ]) \n",
    "dimension = arr.ndim\n",
    "size = arr.size\n",
    "print(arr)\n",
    "print('Dimension:',dimension)\n",
    "print('Size:',size)"
   ]
  },
  {
   "cell_type": "markdown",
   "metadata": {},
   "source": [
    "# Question:- 04"
   ]
  },
  {
   "cell_type": "code",
   "execution_count": 4,
   "metadata": {},
   "outputs": [
    {
     "name": "stdout",
     "output_type": "stream",
     "text": [
      "[1 2 3 4 5 6 7 8]\n",
      "Dimension: 1\n",
      "[[1]\n",
      " [2]\n",
      " [3]\n",
      " [4]\n",
      " [5]\n",
      " [6]\n",
      " [7]\n",
      " [8]]\n",
      "Dimension: 2\n"
     ]
    }
   ],
   "source": [
    "import numpy as np\n",
    "A = np.array([1,2,3,4,5,6,7,8])\n",
    "print(A)\n",
    "print('Dimension:', A.ndim)\n",
    "B = A[: , np.newaxis]\n",
    "print(B)\n",
    "print('Dimension:', B.ndim)"
   ]
  },
  {
   "cell_type": "code",
   "execution_count": 5,
   "metadata": {},
   "outputs": [
    {
     "name": "stdout",
     "output_type": "stream",
     "text": [
      "[1 2 3 4 5 6 7 8]\n",
      "Dimension: 1\n",
      "[[1]\n",
      " [2]\n",
      " [3]\n",
      " [4]\n",
      " [5]\n",
      " [6]\n",
      " [7]\n",
      " [8]]\n",
      "Dimension: 2\n"
     ]
    }
   ],
   "source": [
    "import numpy as np\n",
    "A = np.array([1,2,3,4,5,6,7,8])\n",
    "print(A)\n",
    "print('Dimension:', A.ndim)\n",
    "B = np.expand_dims(A, axis=1)\n",
    "print(B)\n",
    "print('Dimension:', B.ndim)"
   ]
  },
  {
   "cell_type": "markdown",
   "metadata": {},
   "source": [
    "# Question:- 05"
   ]
  },
  {
   "cell_type": "code",
   "execution_count": 6,
   "metadata": {},
   "outputs": [
    {
     "name": "stdout",
     "output_type": "stream",
     "text": [
      "Vertical Stacking:\n",
      " [[ 1  2  3]\n",
      " [ 4  5  6]\n",
      " [ 7  8  9]\n",
      " [10 11 12]\n",
      " [13 14 15]\n",
      " [16 17 18]]\n",
      "Horizontal Stacking:\n",
      " [[ 1  2  3 10 11 12]\n",
      " [ 4  5  6 13 14 15]\n",
      " [ 7  8  9 16 17 18]]\n"
     ]
    }
   ],
   "source": [
    "import numpy as np\n",
    "arr1 = np.array([ [1,2,3], [4,5,6], [7,8,9] ])\n",
    "arr2 = np.array([ [10,11,12], [13,14,15], [16,17,18,] ])\n",
    "#vertically stacking the two square numpy arrays\n",
    "Vstack = np.vstack([arr1, arr2])\n",
    "#horizonatally stacking the two square numpy arrays\n",
    "Hstack = np.hstack([arr1, arr2])\n",
    "print('Vertical Stacking:\\n',Vstack)\n",
    "print('Horizontal Stacking:\\n',Hstack)"
   ]
  },
  {
   "cell_type": "markdown",
   "metadata": {},
   "source": [
    "# Question:- 06"
   ]
  },
  {
   "cell_type": "code",
   "execution_count": 7,
   "metadata": {},
   "outputs": [
    {
     "name": "stdout",
     "output_type": "stream",
     "text": [
      "[[1 3]\n",
      " [2 3]\n",
      " [3 2]\n",
      " [4 2]\n",
      " [5 1]\n",
      " [7 4]\n",
      " [8 1]]\n"
     ]
    }
   ],
   "source": [
    "import numpy as np\n",
    "arr = np.array([1,1,1,2,3,4,4,3,2,2,5,7,7,7,7,8])\n",
    "x, y= np.unique(arr, return_counts=True)\n",
    "# x = Unique value and y = count of unique value(frequency)\n",
    "z = np.asarray((x,y)).T\n",
    "print(z)"
   ]
  },
  {
   "cell_type": "code",
   "execution_count": null,
   "metadata": {},
   "outputs": [],
   "source": []
  }
 ],
 "metadata": {
  "kernelspec": {
   "display_name": "Python 3",
   "language": "python",
   "name": "python3"
  },
  "language_info": {
   "codemirror_mode": {
    "name": "ipython",
    "version": 3
   },
   "file_extension": ".py",
   "mimetype": "text/x-python",
   "name": "python",
   "nbconvert_exporter": "python",
   "pygments_lexer": "ipython3",
   "version": "3.7.6"
  }
 },
 "nbformat": 4,
 "nbformat_minor": 4
}
